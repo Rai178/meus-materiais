{
 "cells": [
  {
   "cell_type": "code",
   "execution_count": 1,
   "source": [
    "dimensions=(200, 50)\n",
    "print(\"Original dimensions: \")\n",
    "for dimension in dimensions:\n",
    "    print(dimension)"
   ],
   "outputs": [
    {
     "output_type": "stream",
     "name": "stdout",
     "text": [
      "Original dimensions: \n",
      "200\n",
      "50\n"
     ]
    }
   ],
   "metadata": {}
  },
  {
   "cell_type": "code",
   "execution_count": 3,
   "source": [
    "alien_color = green\n",
    "if alien_color = green\n",
    "    print(\"you just earned 5 points\")"
   ],
   "outputs": [
    {
     "output_type": "error",
     "ename": "SyntaxError",
     "evalue": "invalid syntax. Maybe you meant '==' or ':=' instead of '='? (<ipython-input-3-f8ea0ffb8981>, line 2)",
     "traceback": [
      "\u001b[1;36m  Cell \u001b[1;32mIn[3], line 2\u001b[1;36m\u001b[0m\n\u001b[1;33m    if alien_color = green\u001b[0m\n\u001b[1;37m       ^\u001b[0m\n\u001b[1;31mSyntaxError\u001b[0m\u001b[1;31m:\u001b[0m invalid syntax. Maybe you meant '==' or ':=' instead of '='?\n"
     ]
    }
   ],
   "metadata": {}
  },
  {
   "cell_type": "code",
   "execution_count": 4,
   "source": [
    "alien_color = green\n",
    "    if alien_color == green\n",
    "        print(\"you just earned 5 points\")"
   ],
   "outputs": [
    {
     "output_type": "error",
     "ename": "IndentationError",
     "evalue": "unexpected indent (<ipython-input-4-d766a34fac8a>, line 2)",
     "traceback": [
      "\u001b[1;36m  Cell \u001b[1;32mIn[4], line 2\u001b[1;36m\u001b[0m\n\u001b[1;33m    if alien_color == green\u001b[0m\n\u001b[1;37m    ^\u001b[0m\n\u001b[1;31mIndentationError\u001b[0m\u001b[1;31m:\u001b[0m unexpected indent\n"
     ]
    }
   ],
   "metadata": {}
  },
  {
   "cell_type": "code",
   "execution_count": 5,
   "source": [
    "alien_color = green\n",
    "if alien_color == green\n",
    "    print(\"you just earned 5 points\")"
   ],
   "outputs": [
    {
     "output_type": "error",
     "ename": "SyntaxError",
     "evalue": "expected ':' (<ipython-input-5-027f94a42beb>, line 2)",
     "traceback": [
      "\u001b[1;36m  Cell \u001b[1;32mIn[5], line 2\u001b[1;36m\u001b[0m\n\u001b[1;33m    if alien_color == green\u001b[0m\n\u001b[1;37m                           ^\u001b[0m\n\u001b[1;31mSyntaxError\u001b[0m\u001b[1;31m:\u001b[0m expected ':'\n"
     ]
    }
   ],
   "metadata": {}
  },
  {
   "cell_type": "code",
   "execution_count": 6,
   "source": [
    "alien_color = green\n",
    "if alien_color == green:\n",
    "    print(\"you just earned 5 points\")"
   ],
   "outputs": [
    {
     "output_type": "error",
     "ename": "NameError",
     "evalue": "name 'green' is not defined",
     "traceback": [
      "\u001b[1;31m---------------------------------------------------------------------------\u001b[0m",
      "\u001b[1;31mNameError\u001b[0m                                 Traceback (most recent call last)",
      "Cell \u001b[1;32mIn[6], line 1\u001b[0m\n\u001b[1;32m----> 1\u001b[0m alien_color \u001b[39m=\u001b[39m green\n\u001b[0;32m      2\u001b[0m \u001b[39mif\u001b[39;00m alien_color \u001b[39m==\u001b[39m green:\n\u001b[0;32m      3\u001b[0m     \u001b[39mprint\u001b[39m(\u001b[39m\"\u001b[39m\u001b[39myou just earned 5 points\u001b[39m\u001b[39m\"\u001b[39m)\n",
      "\u001b[1;31mNameError\u001b[0m: name 'green' is not defined"
     ]
    }
   ],
   "metadata": {}
  },
  {
   "cell_type": "code",
   "execution_count": 7,
   "source": [
    "alien_color = 'green'\n",
    "if alien_color == green:\n",
    "    print(\"you just earned 5 points\")"
   ],
   "outputs": [
    {
     "output_type": "error",
     "ename": "NameError",
     "evalue": "name 'green' is not defined",
     "traceback": [
      "\u001b[1;31m---------------------------------------------------------------------------\u001b[0m",
      "\u001b[1;31mNameError\u001b[0m                                 Traceback (most recent call last)",
      "Cell \u001b[1;32mIn[7], line 2\u001b[0m\n\u001b[0;32m      1\u001b[0m alien_color \u001b[39m=\u001b[39m \u001b[39m'\u001b[39m\u001b[39mgreen\u001b[39m\u001b[39m'\u001b[39m\n\u001b[1;32m----> 2\u001b[0m \u001b[39mif\u001b[39;00m alien_color \u001b[39m==\u001b[39m green:\n\u001b[0;32m      3\u001b[0m     \u001b[39mprint\u001b[39m(\u001b[39m\"\u001b[39m\u001b[39myou just earned 5 points\u001b[39m\u001b[39m\"\u001b[39m)\n",
      "\u001b[1;31mNameError\u001b[0m: name 'green' is not defined"
     ]
    }
   ],
   "metadata": {}
  },
  {
   "cell_type": "code",
   "execution_count": 8,
   "source": [
    "alien_color = 'green'\n",
    "if alien_color == 'green':\n",
    "    print(\"you just earned 5 points\")"
   ],
   "outputs": [
    {
     "output_type": "stream",
     "name": "stdout",
     "text": [
      "you just earned 5 points\n"
     ]
    }
   ],
   "metadata": {}
  },
  {
   "cell_type": "code",
   "execution_count": 9,
   "source": [
    "alien_color = 'green'\n",
    "if alien_color == 'green':\n",
    "    print(\"you just earned 5 points\")\n",
    "else:"
   ],
   "outputs": [
    {
     "output_type": "error",
     "ename": "SyntaxError",
     "evalue": "incomplete input (<ipython-input-9-8ee207acf57a>, line 4)",
     "traceback": [
      "\u001b[1;36m  Cell \u001b[1;32mIn[9], line 4\u001b[1;36m\u001b[0m\n\u001b[1;33m    else:\u001b[0m\n\u001b[1;37m         ^\u001b[0m\n\u001b[1;31mSyntaxError\u001b[0m\u001b[1;31m:\u001b[0m incomplete input\n"
     ]
    }
   ],
   "metadata": {}
  },
  {
   "cell_type": "code",
   "execution_count": 10,
   "source": [
    "alien_color = 'green'\n",
    "if alien_color == 'green':\n",
    "    print(\"you just earned 5 points\")\n",
    "else\n",
    ""
   ],
   "outputs": [
    {
     "output_type": "error",
     "ename": "SyntaxError",
     "evalue": "expected ':' (<ipython-input-10-052310d1c81e>, line 4)",
     "traceback": [
      "\u001b[1;36m  Cell \u001b[1;32mIn[10], line 4\u001b[1;36m\u001b[0m\n\u001b[1;33m    else\u001b[0m\n\u001b[1;37m        ^\u001b[0m\n\u001b[1;31mSyntaxError\u001b[0m\u001b[1;31m:\u001b[0m expected ':'\n"
     ]
    }
   ],
   "metadata": {}
  },
  {
   "cell_type": "code",
   "execution_count": 11,
   "source": [
    "alien_color = 'green'\n",
    "if alien_color == 'green':\n",
    "    print(\"you just earned 5 points\")\n",
    "else:\n",
    "    print()"
   ],
   "outputs": [
    {
     "output_type": "stream",
     "name": "stdout",
     "text": [
      "you just earned 5 points\n"
     ]
    }
   ],
   "metadata": {}
  },
  {
   "cell_type": "code",
   "execution_count": 12,
   "source": [
    "alien_color = 'gr'\n",
    "if alien_color == 'green':\n",
    "    print(\"you just earned 5 points\")\n",
    "else"
   ],
   "outputs": [
    {
     "output_type": "error",
     "ename": "SyntaxError",
     "evalue": "expected ':' (<ipython-input-12-1537319b2db4>, line 4)",
     "traceback": [
      "\u001b[1;36m  Cell \u001b[1;32mIn[12], line 4\u001b[1;36m\u001b[0m\n\u001b[1;33m    else\u001b[0m\n\u001b[1;37m        ^\u001b[0m\n\u001b[1;31mSyntaxError\u001b[0m\u001b[1;31m:\u001b[0m expected ':'\n"
     ]
    }
   ],
   "metadata": {}
  },
  {
   "cell_type": "code",
   "execution_count": 13,
   "source": [
    "alien_color = 'gre'\n",
    "if alien_color == 'green':\n",
    "    print(\"you just earned 5 points\")\n",
    "else:\n",
    "    print()"
   ],
   "outputs": [
    {
     "output_type": "stream",
     "name": "stdout",
     "text": [
      "\n"
     ]
    }
   ],
   "metadata": {}
  },
  {
   "cell_type": "code",
   "execution_count": 14,
   "source": [
    "alien_color = 'gre'\n",
    "if alien_color == 'green':\n",
    "    print(\"you just earned 5 points\")\n",
    "else:\n",
    "    print(\"you just earned 10 points\")"
   ],
   "outputs": [
    {
     "output_type": "stream",
     "name": "stdout",
     "text": [
      "you just earned 10 points\n"
     ]
    }
   ],
   "metadata": {}
  },
  {
   "cell_type": "code",
   "execution_count": 15,
   "source": [
    "alien_color = 'green'\n",
    "if alien_color == 'green':\n",
    "    print(\"you just earned 5 points\")\n",
    "elif alien_color == 'yellow':\n",
    "    print(\"you just earned 10 points\")\n",
    "else alien_color == 'red':\n",
    "    print(\"you just earned 15 points\")"
   ],
   "outputs": [
    {
     "output_type": "error",
     "ename": "SyntaxError",
     "evalue": "expected ':' (<ipython-input-15-c9c8cdaca983>, line 6)",
     "traceback": [
      "\u001b[1;36m  Cell \u001b[1;32mIn[15], line 6\u001b[1;36m\u001b[0m\n\u001b[1;33m    else alien_color == 'red':\u001b[0m\n\u001b[1;37m         ^\u001b[0m\n\u001b[1;31mSyntaxError\u001b[0m\u001b[1;31m:\u001b[0m expected ':'\n"
     ]
    }
   ],
   "metadata": {}
  },
  {
   "cell_type": "code",
   "execution_count": 16,
   "source": [
    "alien_color = 'green'\n",
    "if alien_color == 'green':\n",
    "    print(\"you just earned 5 points\")\n",
    "elif alien_color == 'yellow':\n",
    "    print(\"you just earned 10 points\")\n",
    "else: alien_color == 'red':\n",
    "    print(\"you just earned 15 points\")"
   ],
   "outputs": [
    {
     "output_type": "error",
     "ename": "SyntaxError",
     "evalue": "invalid syntax (<ipython-input-16-261696362310>, line 6)",
     "traceback": [
      "\u001b[1;36m  Cell \u001b[1;32mIn[16], line 6\u001b[1;36m\u001b[0m\n\u001b[1;33m    else: alien_color == 'red':\u001b[0m\n\u001b[1;37m                              ^\u001b[0m\n\u001b[1;31mSyntaxError\u001b[0m\u001b[1;31m:\u001b[0m invalid syntax\n"
     ]
    }
   ],
   "metadata": {}
  },
  {
   "cell_type": "code",
   "execution_count": 17,
   "source": [
    "alien_color = 'green'\n",
    "if alien_color == 'green':\n",
    "    print(\"you just earned 5 points\")\n",
    "elif alien_color == 'yellow':\n",
    "    print(\"you just earned 10 points\")\n",
    "elif alien_color == 'red':\n",
    "    print(\"you just earned 15 points\")\n",
    "else:\n",
    "    print()"
   ],
   "outputs": [
    {
     "output_type": "stream",
     "name": "stdout",
     "text": [
      "you just earned 5 points\n"
     ]
    }
   ],
   "metadata": {}
  },
  {
   "cell_type": "code",
   "execution_count": 18,
   "source": [
    "alien_color = 'yellow'\n",
    "if alien_color == 'green':\n",
    "    print(\"you just earned 5 points\")\n",
    "elif alien_color == 'yellow':\n",
    "    print(\"you just earned 10 points\")\n",
    "elif alien_color == 'red':\n",
    "    print(\"you just earned 15 points\")\n",
    "else:\n",
    "    print()"
   ],
   "outputs": [
    {
     "output_type": "stream",
     "name": "stdout",
     "text": [
      "you just earned 10 points\n"
     ]
    }
   ],
   "metadata": {}
  },
  {
   "cell_type": "code",
   "execution_count": 19,
   "source": [
    "alien_color = 'red'\n",
    "if alien_color == 'green':\n",
    "    print(\"you just earned 5 points\")\n",
    "elif alien_color == 'yellow':\n",
    "    print(\"you just earned 10 points\")\n",
    "elif alien_color == 'red':\n",
    "    print(\"you just earned 15 points\")\n",
    "else:\n",
    "    print()"
   ],
   "outputs": [
    {
     "output_type": "stream",
     "name": "stdout",
     "text": [
      "you just earned 15 points\n"
     ]
    }
   ],
   "metadata": {}
  },
  {
   "cell_type": "code",
   "execution_count": 20,
   "source": [
    "age == '4'\n",
    "if age < 2:\n",
    "    print(\"the person is a baby\")\n",
    "elif age 2 < age < 4:\n",
    "    print(\"the person is a toddler\")\n",
    "elif 4 < age < 13:\n",
    "    print(\"the person is a kid \")\n",
    "elif 13 < age < 20:\n",
    "    print(\"the person is a teenager\")\n",
    "elif 20 < age < 65:\n",
    "    print(\"the person is an adult\")\n",
    "else:\n",
    "    print(\"the person is an older\")"
   ],
   "outputs": [
    {
     "output_type": "error",
     "ename": "SyntaxError",
     "evalue": "invalid syntax (<ipython-input-20-f13c4ebb9924>, line 4)",
     "traceback": [
      "\u001b[1;36m  Cell \u001b[1;32mIn[20], line 4\u001b[1;36m\u001b[0m\n\u001b[1;33m    elif age 2 < age < 4:\u001b[0m\n\u001b[1;37m             ^\u001b[0m\n\u001b[1;31mSyntaxError\u001b[0m\u001b[1;31m:\u001b[0m invalid syntax\n"
     ]
    }
   ],
   "metadata": {}
  },
  {
   "cell_type": "code",
   "execution_count": 21,
   "source": [
    "age == '4'\n",
    "if age < 2:\n",
    "    print(\"the person is a baby\")\n",
    "elif  2 < age < 4:\n",
    "    print(\"the person is a toddler\")\n",
    "elif 4 < age < 13:\n",
    "    print(\"the person is a kid \")\n",
    "elif 13 < age < 20:\n",
    "    print(\"the person is a teenager\")\n",
    "elif 20 < age < 65:\n",
    "    print(\"the person is an adult\")\n",
    "else:\n",
    "    print(\"the person is an older\")"
   ],
   "outputs": [
    {
     "output_type": "error",
     "ename": "NameError",
     "evalue": "name 'age' is not defined",
     "traceback": [
      "\u001b[1;31m---------------------------------------------------------------------------\u001b[0m",
      "\u001b[1;31mNameError\u001b[0m                                 Traceback (most recent call last)",
      "Cell \u001b[1;32mIn[21], line 1\u001b[0m\n\u001b[1;32m----> 1\u001b[0m age \u001b[39m==\u001b[39m \u001b[39m'\u001b[39m\u001b[39m4\u001b[39m\u001b[39m'\u001b[39m\n\u001b[0;32m      2\u001b[0m \u001b[39mif\u001b[39;00m age \u001b[39m<\u001b[39m \u001b[39m2\u001b[39m:\n\u001b[0;32m      3\u001b[0m     \u001b[39mprint\u001b[39m(\u001b[39m\"\u001b[39m\u001b[39mthe person is a baby\u001b[39m\u001b[39m\"\u001b[39m)\n",
      "\u001b[1;31mNameError\u001b[0m: name 'age' is not defined"
     ]
    }
   ],
   "metadata": {}
  },
  {
   "cell_type": "code",
   "execution_count": 22,
   "source": [
    "age == 4\n",
    "if age < 2:\n",
    "    print(\"the person is a baby\")\n",
    "elif  2 < age < 4:\n",
    "    print(\"the person is a toddler\")\n",
    "elif 4 < age < 13:\n",
    "    print(\"the person is a kid \")\n",
    "elif 13 < age < 20:\n",
    "    print(\"the person is a teenager\")\n",
    "elif 20 < age < 65:\n",
    "    print(\"the person is an adult\")\n",
    "else:\n",
    "    print(\"the person is an older\")"
   ],
   "outputs": [
    {
     "output_type": "error",
     "ename": "NameError",
     "evalue": "name 'age' is not defined",
     "traceback": [
      "\u001b[1;31m---------------------------------------------------------------------------\u001b[0m",
      "\u001b[1;31mNameError\u001b[0m                                 Traceback (most recent call last)",
      "Cell \u001b[1;32mIn[22], line 1\u001b[0m\n\u001b[1;32m----> 1\u001b[0m age \u001b[39m==\u001b[39m \u001b[39m4\u001b[39m\n\u001b[0;32m      2\u001b[0m \u001b[39mif\u001b[39;00m age \u001b[39m<\u001b[39m \u001b[39m2\u001b[39m:\n\u001b[0;32m      3\u001b[0m     \u001b[39mprint\u001b[39m(\u001b[39m\"\u001b[39m\u001b[39mthe person is a baby\u001b[39m\u001b[39m\"\u001b[39m)\n",
      "\u001b[1;31mNameError\u001b[0m: name 'age' is not defined"
     ]
    }
   ],
   "metadata": {}
  },
  {
   "cell_type": "code",
   "execution_count": 23,
   "source": [
    "age = 4\n",
    "if age < 2:\n",
    "    print(\"the person is a baby\")\n",
    "elif  2 < age < 4:\n",
    "    print(\"the person is a toddler\")\n",
    "elif 4 < age < 13:\n",
    "    print(\"the person is a kid \")\n",
    "elif 13 < age < 20:\n",
    "    print(\"the person is a teenager\")\n",
    "elif 20 < age < 65:\n",
    "    print(\"the person is an adult\")\n",
    "else:\n",
    "    print(\"the person is an older\")"
   ],
   "outputs": [
    {
     "output_type": "stream",
     "name": "stdout",
     "text": [
      "the person is an older\n"
     ]
    }
   ],
   "metadata": {}
  },
  {
   "cell_type": "code",
   "execution_count": 24,
   "source": [
    "favorite_fruits = ['banana', 'abacate', 'laranja']\n",
    "if 'banana' in favorite_fruits:\n",
    "    print('you really like bananas')\n",
    "if 'cu' in favorite_fruits:\n",
    "    print('you are a boiola')\n",
    "else:\n",
    "    print('vai tomar no cu')"
   ],
   "outputs": [
    {
     "output_type": "stream",
     "name": "stdout",
     "text": [
      "you really like bananas\n",
      "vai tomar no cu\n"
     ]
    }
   ],
   "metadata": {}
  },
  {
   "cell_type": "code",
   "execution_count": 25,
   "source": [
    "favorite_fruits = ['banana', 'abacate', 'laranja']\n",
    "if 'banana' in favorite_fruits:\n",
    "    print('you really like bananas')\n",
    "elif 'cu' in favorite_fruits:\n",
    "    print('you are a boiola')\n",
    "else:\n",
    "    print('vai tomar no cu')"
   ],
   "outputs": [
    {
     "output_type": "stream",
     "name": "stdout",
     "text": [
      "you really like bananas\n"
     ]
    }
   ],
   "metadata": {}
  }
 ],
 "nbformat": 4,
 "nbformat_minor": 2,
 "metadata": {
  "language_info": {
   "codemirror_mode": {
    "name": "ipython",
    "version": 3
   },
   "file_extension": ".py",
   "mimetype": "text/x-python",
   "name": "python",
   "nbconvert_exporter": "python",
   "pygments_lexer": "ipython3",
   "version": 3
  }
 }
}